{
 "cells": [
  {
   "cell_type": "code",
   "execution_count": 163,
   "id": "304de747-7f44-4f11-8d93-2c7fb542a509",
   "metadata": {},
   "outputs": [
    {
     "name": "stdout",
     "output_type": "stream",
     "text": [
      "\n",
      "Noam Chomsky\n",
      "On Anarchism\n",
      "2013\n",
      "\n",
      "2. Excerpts from Understanding Power\n",
      "Transcending Capitalism\n",
      "\n",
      "MAN: Referring back to your comments about escaping from or doing away with capitalism, I’m wondering what workable scheme you would put in its place?\n",
      "\n",
      "Me?\n",
      "\n",
      "MAN: Or what would you suggest to others who might be in a position to set it up and get it going?\n",
      "\n",
      "Well, I think that what used to be called, centuries ago, “wage slavery” is intolerable. I mean, I do not think that peopl\n",
      "37371\n"
     ]
    },
    {
     "data": {
      "text/plain": [
       "str"
      ]
     },
     "execution_count": 163,
     "metadata": {},
     "output_type": "execute_result"
    }
   ],
   "source": [
    "# load Textfile »Noam Chomsky On Anarchism« from https://theanarchistlibrary.org/library/noam-chomsky-on-anarchism\n",
    "##switch *1.txt until *footnotes.txt in input-folder to read...\n",
    "##...here for chapter 2:\n",
    "file = open('./input/on-anarchism2.txt', encoding='utf-8')\n",
    "salute_string = file.read()           \n",
    "file.close()\n",
    "\n",
    "print(salute_string[0:474])\n",
    "print(len(salute_string))           \n",
    "type(salute_string)"
   ]
  },
  {
   "cell_type": "code",
   "execution_count": 164,
   "id": "88325b27-b04d-456e-84b6-26b5f076a229",
   "metadata": {},
   "outputs": [],
   "source": [
    "import spacy\n",
    "##! python -m spacy download en_core_web_sm\n",
    "from textblob import TextBlob\n",
    "from textblob.sentiments import NaiveBayesAnalyzer\n",
    "import nltk\n",
    "##nltk.download('movie_reviews')\n",
    "##nltk.download('punkt')\n",
    "import re\n",
    "import random"
   ]
  },
  {
   "cell_type": "code",
   "execution_count": 165,
   "id": "d1768946-b005-47ea-9d72-7255b6c32b45",
   "metadata": {},
   "outputs": [
    {
     "data": {
      "text/plain": [
       "Sentiment(classification='pos', p_pos=1.0, p_neg=7.689151667261118e-100)"
      ]
     },
     "execution_count": 165,
     "metadata": {},
     "output_type": "execute_result"
    }
   ],
   "source": [
    "blob = TextBlob(salute_string, analyzer=NaiveBayesAnalyzer())\n",
    "blob.sentiment"
   ]
  },
  {
   "cell_type": "code",
   "execution_count": 166,
   "id": "14a5e5bc-b464-4f8c-91cb-e764e37c9a0e",
   "metadata": {},
   "outputs": [],
   "source": [
    "spacy_obj = spacy.load('en_core_web_sm')\n",
    "salute_spacy = spacy_obj(salute_string)"
   ]
  },
  {
   "cell_type": "markdown",
   "id": "0a8a50f0-0c49-43f0-8509-24fa2e7f3507",
   "metadata": {},
   "source": [
    "### **prepositions** are usually wrong"
   ]
  },
  {
   "cell_type": "code",
   "execution_count": 167,
   "id": "690b4314-fadf-45b6-b6dc-f9dd8ea9c054",
   "metadata": {},
   "outputs": [
    {
     "data": {
      "text/plain": [
       "['I', 'you', 'Me']"
      ]
     },
     "execution_count": 167,
     "metadata": {},
     "output_type": "execute_result"
    }
   ],
   "source": [
    "prepositions = []\n",
    "for token in salute_spacy:\n",
    "    if token.tag_ == 'PRP':\n",
    "        prepositions.append(token.text)\n",
    "        \n",
    "prepositions[0:3]"
   ]
  },
  {
   "cell_type": "code",
   "execution_count": 168,
   "id": "e71bfabd-0304-4216-91e2-956d74cc89d0",
   "metadata": {},
   "outputs": [],
   "source": [
    "big_regex = re.compile(r'\\b%s\\b' % r'\\b|\\b'.join(map(re.escape, prepositions)))\n",
    "the_message = big_regex.sub(\".\", salute_string)"
   ]
  },
  {
   "cell_type": "code",
   "execution_count": 169,
   "id": "2a09f645-ac1c-450c-b2af-aa032929dfd0",
   "metadata": {},
   "outputs": [
    {
     "data": {
      "text/plain": [
       "Sentiment(classification='pos', p_pos=1.0, p_neg=5.326431569057566e-99)"
      ]
     },
     "execution_count": 169,
     "metadata": {},
     "output_type": "execute_result"
    }
   ],
   "source": [
    "blob = TextBlob(the_message, analyzer=NaiveBayesAnalyzer())\n",
    "blob.sentiment"
   ]
  },
  {
   "cell_type": "code",
   "execution_count": 170,
   "id": "5fb32cb1-a4bb-461e-9e58-6bde7d235411",
   "metadata": {
    "tags": []
   },
   "outputs": [
    {
     "name": "stdout",
     "output_type": "stream",
     "text": [
      "\n",
      "Noam Chomsky\n",
      "On Anarchism\n",
      "2013\n",
      "\n",
      "2. Excerpts from Understanding Power\n",
      "Transcending Capitalism\n",
      "\n",
      "MAN: Referring back to your comments about escaping from or doing away with capitalism, .’m wondering what workable scheme . would put in its place?\n",
      "\n",
      ".?\n",
      "\n",
      "MAN: Or what would . suggest to others who might be in a position to set . up and get . going?\n",
      "\n",
      "Well, . think that what used to be called, centuries ago, “wage slavery” is intolerable. . mean, . do not think that people ought to be forced to rent . in order to survive. . think that the economic institutions ought to be run democratically—by their participants, and by the communities in which . live. And . think that through various forms of free association and federalism, .. possible to imagine a society working like that. . mean, . don’t think . can lay . out in detail—nobody. smart enough to design a society; .’ve got to experiment. But reasonable principles on which\n"
     ]
    }
   ],
   "source": [
    "salute_spacy = spacy_obj(the_message)\n",
    "print(salute_spacy[0:200])"
   ]
  },
  {
   "cell_type": "markdown",
   "id": "576b790d-5096-4241-99ea-2d13f8261921",
   "metadata": {},
   "source": [
    "### **adjectives** are not interesting"
   ]
  },
  {
   "cell_type": "code",
   "execution_count": 171,
   "id": "46931f8d-4797-4d8d-9c91-6f93266008f4",
   "metadata": {},
   "outputs": [
    {
     "data": {
      "text/plain": [
       "['workable', 'intolerable', 'economic']"
      ]
     },
     "execution_count": 171,
     "metadata": {},
     "output_type": "execute_result"
    }
   ],
   "source": [
    "adjectives = []\n",
    "for token in salute_spacy:\n",
    "    if token.pos_ == 'ADJ':\n",
    "        adjectives.append(token.text)\n",
    "        \n",
    "adjectives[0:3]"
   ]
  },
  {
   "cell_type": "code",
   "execution_count": 172,
   "id": "c74a0f93-3f80-4594-9e1f-576d96c0527a",
   "metadata": {},
   "outputs": [],
   "source": [
    "big_regex = re.compile(r'\\b%s\\b' % r'\\b|\\b'.join(map(re.escape, adjectives)))\n",
    "the_message = big_regex.sub(\".\", the_message)"
   ]
  },
  {
   "cell_type": "code",
   "execution_count": 173,
   "id": "358ea434-244a-4010-ba4b-398092ef8a26",
   "metadata": {},
   "outputs": [
    {
     "data": {
      "text/plain": [
       "Sentiment(classification='pos', p_pos=1.0, p_neg=2.9928382821346226e-70)"
      ]
     },
     "execution_count": 173,
     "metadata": {},
     "output_type": "execute_result"
    }
   ],
   "source": [
    "from textblob import TextBlob\n",
    "from textblob.sentiments import NaiveBayesAnalyzer\n",
    "\n",
    "blob = TextBlob(the_message, analyzer=NaiveBayesAnalyzer())\n",
    "blob.sentiment"
   ]
  },
  {
   "cell_type": "code",
   "execution_count": 174,
   "id": "af05a531-6d84-4cda-84db-2bad6730fd94",
   "metadata": {
    "tags": []
   },
   "outputs": [
    {
     "name": "stdout",
     "output_type": "stream",
     "text": [
      "\n",
      "Noam Chomsky\n",
      "On Anarchism\n",
      "2013\n",
      "\n",
      "2. Excerpts from Understanding Power\n",
      "Transcending Capitalism\n",
      "\n",
      "MAN: Referring back to your comments about escaping from or doing away with capitalism, .’m wondering what . scheme . would put in its place?\n",
      "\n",
      ".?\n",
      "\n",
      "MAN: Or what would . suggest to others who might be in a position to set . up and get . going?\n",
      "\n",
      "Well, . think that what used to be called, centuries ago, “wage slavery” is .. . mean, . do not think that people ought to be forced to rent . in order to survive. . think that the . institutions ought to be run democratically—by their participants, and by the communities in which . live. And . think that through . forms of . association and federalism, .. . to imagine a society working like that. . mean, . don’t think . can lay . out in detail—nobody. . . to design a society; .’ve got to experiment. But . principles on which to\n"
     ]
    }
   ],
   "source": [
    "spacy_obj = spacy.load('en_core_web_sm')\n",
    "salute_spacy = spacy_obj(the_message)\n",
    "print(salute_spacy[0:200])"
   ]
  },
  {
   "cell_type": "markdown",
   "id": "f090d033-58f4-4939-bb0e-d2e4d950e2b1",
   "metadata": {},
   "source": [
    "### **nouns** are not interesting"
   ]
  },
  {
   "cell_type": "code",
   "execution_count": 175,
   "id": "20abf9e8-ffcc-422c-aa8a-607977ad9029",
   "metadata": {},
   "outputs": [
    {
     "data": {
      "text/plain": [
       "['Anarchism', 'Excerpts', 'MAN', 'comments', 'capitalism']"
      ]
     },
     "execution_count": 175,
     "metadata": {},
     "output_type": "execute_result"
    }
   ],
   "source": [
    "nouns = []\n",
    "for token in salute_spacy:\n",
    "    if token.pos_ == 'NOUN':\n",
    "        nouns.append(token.text)\n",
    "\n",
    "nouns[0:5]"
   ]
  },
  {
   "cell_type": "code",
   "execution_count": 176,
   "id": "efaa1cde-1a89-45dc-bb80-edc068499be8",
   "metadata": {},
   "outputs": [],
   "source": [
    "big_regex = re.compile(r'\\b%s\\b' % r'\\b|\\b'.join(map(re.escape, nouns)))\n",
    "the_message = big_regex.sub(\"\", the_message)"
   ]
  },
  {
   "cell_type": "code",
   "execution_count": 177,
   "id": "ae2baf2e-f028-44a3-9787-554a2c8a9d28",
   "metadata": {},
   "outputs": [
    {
     "data": {
      "text/plain": [
       "Sentiment(classification='pos', p_pos=1.0, p_neg=1.9922973710824585e-26)"
      ]
     },
     "execution_count": 177,
     "metadata": {},
     "output_type": "execute_result"
    }
   ],
   "source": [
    "blob = TextBlob(the_message, analyzer=NaiveBayesAnalyzer())\n",
    "blob.sentiment"
   ]
  },
  {
   "cell_type": "code",
   "execution_count": 178,
   "id": "9fa6ce06-19bf-494a-987a-53a901a5b794",
   "metadata": {
    "tags": []
   },
   "outputs": [
    {
     "name": "stdout",
     "output_type": "stream",
     "text": [
      "\n",
      "Noam Chomsky\n",
      "On \n",
      "2013\n",
      "\n",
      "2.  from Understanding Power\n",
      "Transcending Capitalism\n",
      "\n",
      ": Referring back to your  about escaping from or doing away with , .’m wondering what .  . would put in its ?\n",
      "\n",
      ".?\n",
      "\n",
      ": Or what would . suggest to  who might be in a  to  . up and get . going?\n",
      "\n",
      "Well, . think that what used to be called,  ago, “ ” is .. . , . do not think that  ought to be forced to  . in  to survive. . think that the .  ought to be run democratically—by their , and by the  in which . live. And . think that through .  of . association and federalism, .. . to imagine a  working like that. . , . don’t think . can lay . out in —nobody. . . to design a ; .’ve got to . But .  on which to build . a  are quite ..\n",
      "\n",
      ": .  at .\n"
     ]
    }
   ],
   "source": [
    "spacy_obj = spacy.load('en_core_web_sm')\n",
    "salute_spacy = spacy_obj(the_message)\n",
    "print(salute_spacy[0:200])"
   ]
  },
  {
   "cell_type": "markdown",
   "id": "f1dad8e9-3fe5-41c7-a9bd-d977a94741ea",
   "metadata": {},
   "source": [
    "### **verbs** are in motion"
   ]
  },
  {
   "cell_type": "code",
   "execution_count": 179,
   "id": "1db7a687-7a04-4a1d-b256-9cbe5917bb52",
   "metadata": {},
   "outputs": [
    {
     "data": {
      "text/plain": [
       "['Referring', 'escaping', 'doing', 'wondering', 'put']"
      ]
     },
     "execution_count": 179,
     "metadata": {},
     "output_type": "execute_result"
    }
   ],
   "source": [
    "verbs = []\n",
    "for token in salute_spacy:\n",
    "    if token.pos_ == 'VERB':\n",
    "        verbs.append(token.text)\n",
    "\n",
    "verbs[0:5]"
   ]
  },
  {
   "cell_type": "markdown",
   "id": "be303391-a15c-4aa6-ab77-d3109e3cc4ce",
   "metadata": {},
   "source": [
    "### & **adverbs** moves with them"
   ]
  },
  {
   "cell_type": "code",
   "execution_count": 180,
   "id": "0dd3de4b-823b-4219-8021-347453e11228",
   "metadata": {},
   "outputs": [
    {
     "data": {
      "text/plain": [
       "['back', 'away', 'ago']"
      ]
     },
     "execution_count": 180,
     "metadata": {},
     "output_type": "execute_result"
    }
   ],
   "source": [
    "adverbs = []\n",
    "for token in salute_spacy:\n",
    "    if token.pos_ == 'ADV':\n",
    "        adverbs.append(token.text)\n",
    "        \n",
    "adverbs[0:3]"
   ]
  },
  {
   "cell_type": "code",
   "execution_count": 181,
   "id": "03e64918-6502-4d56-be3e-79fbfbe87044",
   "metadata": {},
   "outputs": [
    {
     "data": {
      "text/plain": [
       "['\\nNoam', 'Chomsky\\nOn', '\\n2013\\n\\n2.', '', 'from']"
      ]
     },
     "execution_count": 181,
     "metadata": {},
     "output_type": "execute_result"
    }
   ],
   "source": [
    "salute_list=the_message.split(' ')\n",
    "salute_list[0:5]"
   ]
  },
  {
   "cell_type": "code",
   "execution_count": 182,
   "id": "4d984aca-6ac3-4244-9578-4179d29c8457",
   "metadata": {},
   "outputs": [],
   "source": [
    "for i in range(0, random.randint(0, 500)):\n",
    "    dotx = random.randint(0, len(salute_list))\n",
    "    hoho=random.choice(adverbs) + \" \" + random.choice(adverbs) + \" \" + random.choice(verbs)\n",
    "    hoho=hoho.split(' ')\n",
    "    salute_list = salute_list[:dotx] + hoho + salute_list[dotx:]\n",
    "\n",
    "the_message = ' '.join(salute_list)"
   ]
  },
  {
   "cell_type": "code",
   "execution_count": 183,
   "id": "834bee3e-777f-4461-b9a8-ab2dc81a6d81",
   "metadata": {},
   "outputs": [
    {
     "data": {
      "text/plain": [
       "Sentiment(classification='pos', p_pos=1.0, p_neg=1.5444070874328405e-26)"
      ]
     },
     "execution_count": 183,
     "metadata": {},
     "output_type": "execute_result"
    }
   ],
   "source": [
    "blob = TextBlob(the_message, analyzer=NaiveBayesAnalyzer())\n",
    "blob.sentiment"
   ]
  },
  {
   "cell_type": "code",
   "execution_count": 184,
   "id": "9528d5f8-e9f3-4e56-b066-8c7eec0bbc3c",
   "metadata": {
    "tags": []
   },
   "outputs": [
    {
     "name": "stdout",
     "output_type": "stream",
     "text": [
      "\n",
      "Noam Chomsky\n",
      "On \n",
      "2013\n",
      "\n",
      "2.  from essentially on have Understanding Power\n",
      "Transcending Capitalism\n",
      "\n",
      ": Referring back to your  about at mostly see escaping from or doing away with , .’m slightly really starving wondering what .  . would put in its ?\n",
      "\n",
      ".?\n",
      "\n",
      ": Or what would just there decide . always just solved suggest to  who might be in a  to  . up and get . going?\n",
      "\n",
      "Well, . think that what used to be called,  ago, “ ” is .. . , . do not think that  ought to be forced to  . in So then prove  to survive. . think that the .  ought to be run democratically—by their , and by the  in which . live. And . think that through .  of . association and federalism, .. . to imagine a  working like that. . , . don’t think . can lay . just together have out in —nobody. . . to design a actually simply think\n"
     ]
    }
   ],
   "source": [
    "spacy_obj = spacy.load('en_core_web_sm')\n",
    "salute_spacy = spacy_obj(the_message)\n",
    "print(salute_spacy[0:200])"
   ]
  },
  {
   "cell_type": "markdown",
   "id": "2dc8148d-f9d1-4dba-8fde-6c80cf5f10e1",
   "metadata": {},
   "source": [
    "### **pronomia** are moving in a very large space of possibility"
   ]
  },
  {
   "cell_type": "code",
   "execution_count": 185,
   "id": "f01467a4-e87e-46c4-8499-0fc6227161cb",
   "metadata": {
    "tags": []
   },
   "outputs": [
    {
     "data": {
      "text/plain": [
       "['your', 'what', 'its', 'what', 'who']"
      ]
     },
     "execution_count": 185,
     "metadata": {},
     "output_type": "execute_result"
    }
   ],
   "source": [
    "pronouns = []\n",
    "for token in salute_spacy:\n",
    "    if token.pos_ == 'PRON':\n",
    "        pre=pronouns.append(token.text)\n",
    "        #print('%-14s' * 3 % (token, token.pos_, token.lemma_))\n",
    "\n",
    "pronouns[0:5]"
   ]
  },
  {
   "cell_type": "code",
   "execution_count": 186,
   "id": "98e045a8-3229-414a-8f42-5fc9d25b7f9a",
   "metadata": {},
   "outputs": [],
   "source": [
    "big_regex = re.compile(r'\\b%s\\b' % r'\\b|\\b'.join(map(re.escape, pronouns)))\n",
    "the_message = big_regex.sub(\".\", the_message)"
   ]
  },
  {
   "cell_type": "code",
   "execution_count": 187,
   "id": "952d04e3-6df3-492e-871c-13db241e80e7",
   "metadata": {},
   "outputs": [
    {
     "data": {
      "text/plain": [
       "Sentiment(classification='pos', p_pos=1.0, p_neg=1.9714946739029433e-27)"
      ]
     },
     "execution_count": 187,
     "metadata": {},
     "output_type": "execute_result"
    }
   ],
   "source": [
    "blob = TextBlob(the_message, analyzer=NaiveBayesAnalyzer())\n",
    "blob.sentiment"
   ]
  },
  {
   "cell_type": "code",
   "execution_count": 188,
   "id": "c1c602d4-4f70-447b-a2df-68b75994937b",
   "metadata": {},
   "outputs": [
    {
     "name": "stdout",
     "output_type": "stream",
     "text": [
      "\n",
      "Noam Chomsky\n",
      "On \n",
      "2013\n",
      "\n",
      "2.  from essentially on have Understanding Power\n",
      "Transcending Capitalism\n",
      "\n",
      ": Referring back to .  about at mostly see escaping from or doing away with , .’m slightly really starving wondering . .  . would put in . ?\n",
      "\n",
      ".?\n",
      "\n",
      ": Or . would just . decide . always just solved suggest to  . might be in .  to  . up and get . going?\n",
      "\n",
      "Well, . think . . used to be called,  ago, “ ” is .. . , . do not think .  ought to be forced to  . in So then prove  to survive. . think . . .  ought to be run democratically—by . , and by .  in . . live. And . think . through .  of . association and federalism, .. . to imagine .  working like .. . , . don’t think . can lay . just together have out in —.. . . to design . actually simply think ; .’ve\n"
     ]
    }
   ],
   "source": [
    "spacy_obj = spacy.load('en_core_web_sm')\n",
    "salute_spacy = spacy_obj(the_message)\n",
    "print(salute_spacy[0:200])"
   ]
  },
  {
   "cell_type": "markdown",
   "id": "cb0e5cb0-101d-4cd7-bd7f-c43c29dcd3ad",
   "metadata": {},
   "source": [
    "### **names** do not"
   ]
  },
  {
   "cell_type": "code",
   "execution_count": 189,
   "id": "d0086583-9bce-4f74-bc03-48e447235bdb",
   "metadata": {},
   "outputs": [],
   "source": [
    "#doc = nlp(s)\n",
    "#newString = s\n",
    "for i in reversed(salute_spacy.ents):\n",
    "    start = i.start_char\n",
    "    end = start + len(i.text)\n",
    "    salspac = the_message[:start] + '.' + the_message[end:]"
   ]
  },
  {
   "cell_type": "code",
   "execution_count": 190,
   "id": "9ef15761-16c2-4ad0-aba0-33194d73dfe5",
   "metadata": {},
   "outputs": [
    {
     "name": "stdout",
     "output_type": "stream",
     "text": [
      "\n",
      ".\n",
      "On \n",
      "2013\n",
      "\n",
      "2.  from essentially on have Understanding Power\n",
      "Transcending Capitalism\n",
      "\n",
      ": Referring back to .  about at mostly see escaping from or doing away with , .’m slightly really starving wonder\n"
     ]
    }
   ],
   "source": [
    "blob = TextBlob(salspac, analyzer=NaiveBayesAnalyzer())\n",
    "blob.sentiment\n",
    "the_message = salspac\n",
    "print(the_message[0:200])"
   ]
  },
  {
   "cell_type": "markdown",
   "id": "bcf2abec-fcbf-422e-be84-25be8912f237",
   "metadata": {},
   "source": [
    "### **upper and lower case spelling** is fun to play with "
   ]
  },
  {
   "cell_type": "code",
   "execution_count": 191,
   "id": "d6bc86ae-874c-4856-8d30-165262233c1f",
   "metadata": {
    "tags": []
   },
   "outputs": [],
   "source": [
    "salutebreak=the_message.replace('\\n', ' ')\n",
    "the_message=''.join(random.choice((str.upper,str.lower))(x) for x in salutebreak)"
   ]
  },
  {
   "cell_type": "code",
   "execution_count": 192,
   "id": "daa2a738-1d27-4216-88a4-b760668fc12d",
   "metadata": {},
   "outputs": [
    {
     "data": {
      "text/plain": [
       "Sentiment(classification='pos', p_pos=1.0, p_neg=1.9714946739029433e-27)"
      ]
     },
     "execution_count": 192,
     "metadata": {},
     "output_type": "execute_result"
    }
   ],
   "source": [
    "blob = TextBlob(the_message, analyzer=NaiveBayesAnalyzer())\n",
    "blob.sentiment"
   ]
  },
  {
   "cell_type": "code",
   "execution_count": 193,
   "id": "9fda3407-c843-4669-a643-8766910efe67",
   "metadata": {},
   "outputs": [
    {
     "name": "stdout",
     "output_type": "stream",
     "text": [
      " . on  2013  2.  frOM ESSeNTIALLy on hAvE unDerSTanding pOWEr TRaNsCendIng cAPitAliSM  : REFerrinG bACK TO .  aboUT AT mOStlY See eSCapIng frOm or DOINg AWAY wiTH , .’M slIGHTLy realLy StArvInG WoNDerINg . .  . would PUt in . ?  .?  : Or . WOULd juST . DecIde . aLwAYS jUst SolVed SUggESt tO  . miGht be in .  To  . UP aND GeT . gOIng?  Well, . tHInK . . USED tO be callEd,  agO, “ ” iS .. . , . do nOT thiNK .  OUghT TO BE FOrcED TO  . iN sO ThEn prOvE  TO sURVIvE. . THINk . . .  OugHt to bE run DemOCraTICaLly—BY . , AnD By .  in . . liVE. ANd . tHInK . tHroUGH .  oF . aSsOciATIOn anD feDerAlISm, .. . TO ImaGIne .  Working lIkE .. . , . DON’t tHInK . CAN laY . just tOgEtHEr HAve OuT In —.. . . To Design . ACTuaLly SimpLy tHinK ; .’vE gOT tO . BUt .\n"
     ]
    }
   ],
   "source": [
    "spacy_obj = spacy.load('en_core_web_sm')\n",
    "salute_spacy = spacy_obj(the_message)\n",
    "print(salute_spacy[0:200])"
   ]
  },
  {
   "cell_type": "markdown",
   "id": "6eb2e218-0919-42e9-9aa6-2d8681c37215",
   "metadata": {},
   "source": [
    "### **question marks** are uninteresting\n",
    "#### **exclamation marks and inverted commas** are unnecessary and ugly\n",
    "##### **commas** are useless"
   ]
  },
  {
   "cell_type": "code",
   "execution_count": 194,
   "id": "e8f2568b-70b5-48c7-a601-2aa8eb614b6d",
   "metadata": {},
   "outputs": [],
   "source": [
    "sal=the_message.translate({ord(ch):'' for ch in '!?;:“”,*\"#.'}).replace('\\n', ' ')"
   ]
  },
  {
   "cell_type": "code",
   "execution_count": 195,
   "id": "513fea8a-1dcd-4ba3-a2f1-8924dbd4de71",
   "metadata": {},
   "outputs": [],
   "source": [
    "salute_list=sal.split(' ')"
   ]
  },
  {
   "cell_type": "markdown",
   "id": "433c61a6-6f7c-425a-b071-9c30fe0fe730",
   "metadata": {},
   "source": [
    "### the **dot** leads the text to its own life"
   ]
  },
  {
   "cell_type": "code",
   "execution_count": 196,
   "id": "f390225f-cd98-4c1c-ab9f-3f77119c5bf3",
   "metadata": {},
   "outputs": [],
   "source": [
    "dot = ['.']\n",
    "\n",
    "\n",
    "for i in range(0, random.randint(0, 10000)):\n",
    "    dotx = random.randint(0, len(salute_list))\n",
    "    salute_list = salute_list[:dotx] + dot + salute_list[dotx:]\n",
    "\n",
    "salute_string2 = ' '.join(salute_list)\n",
    "\n",
    "the_message=re.sub(r'\\s([.](?:\\s|$))', r'\\1', salute_string2)"
   ]
  },
  {
   "cell_type": "code",
   "execution_count": 197,
   "id": "b25890b2-921c-4b6b-bbf6-9ab1a656f9be",
   "metadata": {},
   "outputs": [
    {
     "data": {
      "text/plain": [
       "Sentiment(classification='pos', p_pos=1.0, p_neg=2.837028920982625e-27)"
      ]
     },
     "execution_count": 197,
     "metadata": {},
     "output_type": "execute_result"
    }
   ],
   "source": [
    "blob = TextBlob(the_message, analyzer=NaiveBayesAnalyzer())\n",
    "blob.sentiment"
   ]
  },
  {
   "cell_type": "code",
   "execution_count": 198,
   "id": "83469ec5-f96b-4fc3-bb68-82c4428f9902",
   "metadata": {
    "tags": []
   },
   "outputs": [
    {
     "name": "stdout",
     "output_type": "stream",
     "text": [
      "  on  2013  2  frOM ESSeNTIALLy. on hAvE. unDerSTanding. pOWEr. TRaNsCendIng cAPitAliSM   REFerrinG bACK TO  . aboUT. .. AT mOStlY. .. See eSCapIng frOm or DOINg AWAY wiTH  ’M slIGHTLy realLy. StArvInG. WoNDerINg   . .  would. PUt in   . .. . .  . Or. .  WOULd juST . . DecIde  aLwAYS jUst SolVed SUggESt tO  . miGht be. . in.  . To.  . . UP. aND GeT  gOIng  Well . tHInK   USED tO be callEd  agO   iS     do nOT thiNK   OUghT. TO. BE. FOrcED TO   iN sO ThEn prOvE . TO. sURVIvE . THINk     OugHt to bE run DemOCraTICaLly—BY   AnD By. .  . in .  liVE ANd. . tHInK  tHroUGH   oF  aSsOciATIOn. anD feDerAlISm   TO ImaGIne .  Working lIkE .    DON’t. tHInK . CAN laY . just tOgEtHEr HAve OuT In —   To Design  ACTuaLly SimpLy tHinK . . ’vE gOT. tO\n"
     ]
    }
   ],
   "source": [
    "spacy_obj = spacy.load('en_core_web_sm')\n",
    "salute_spacy = spacy_obj(the_message)\n",
    "print(salute_spacy[0:200])"
   ]
  },
  {
   "cell_type": "markdown",
   "id": "e57fca2d-dcbf-4be0-847a-2050d5a8237b",
   "metadata": {},
   "source": [
    "### ...and interjections ???"
   ]
  },
  {
   "cell_type": "code",
   "execution_count": 199,
   "id": "d8fc9e61-8d98-428d-a9a6-245b5918d3c1",
   "metadata": {},
   "outputs": [
    {
     "data": {
      "text/plain": [
       "['on', 'frOM', 'on']"
      ]
     },
     "execution_count": 199,
     "metadata": {},
     "output_type": "execute_result"
    }
   ],
   "source": [
    "interjections = []\n",
    "for token in salute_spacy:\n",
    "    if token.pos_ == 'ADP':\n",
    "        interjections.append(token.text)\n",
    "        \n",
    "interjections[0:3]"
   ]
  },
  {
   "cell_type": "code",
   "execution_count": 200,
   "id": "4c3c5b30-73f4-4f3a-afa7-4eeb58690582",
   "metadata": {},
   "outputs": [
    {
     "name": "stdout",
     "output_type": "stream",
     "text": [
      "  .  2013  2  . ESSeNTIALLy. . hAvE. unDerSTanding. pOWEr. TRaNsCendIng cAPitAliSM   REFerrinG bACK .  . aboUT. .. AT mOStlY. .. See eSCapIng . or DOINg AWAY .  ’M slIGHTLy realLy. StArvInG. WoNDerINg\n"
     ]
    }
   ],
   "source": [
    "big_regex = re.compile(r'\\b%s\\b' % r'\\b|\\b'.join(map(re.escape, interjections)))\n",
    "the_message = big_regex.sub(\".\", the_message)\n",
    "print(the_message[0:200])"
   ]
  },
  {
   "cell_type": "code",
   "execution_count": 201,
   "id": "8b6d1981-7a74-4d41-a7df-314d8e3b53d0",
   "metadata": {},
   "outputs": [
    {
     "data": {
      "text/plain": [
       "Sentiment(classification='pos', p_pos=1.0, p_neg=9.735064939202312e-27)"
      ]
     },
     "execution_count": 201,
     "metadata": {},
     "output_type": "execute_result"
    }
   ],
   "source": [
    "blob = TextBlob(the_message, analyzer=NaiveBayesAnalyzer())\n",
    "blob.sentiment"
   ]
  },
  {
   "cell_type": "code",
   "execution_count": 202,
   "id": "df3a7b19-0adc-4776-a672-095de74b8589",
   "metadata": {},
   "outputs": [
    {
     "name": "stdout",
     "output_type": "stream",
     "text": [
      "  .  2013  2  . ESSeNTIALLy. . hAvE. unDerSTanding. pOWEr. TRaNsCendIng cAPitAliSM   REFerrinG bACK .  . aboUT. .. AT mOStlY. .. See eSCapIng . or DOINg AWAY .  ’M slIGHTLy realLy. StArvInG. WoNDerINg   . .  would. PUt .   . .. . .  . Or. .  WOULd juST . . DecIde  aLwAYS jUst SolVed SUggESt .  . miGht be. . ..  . ..  . . UP. aND GeT  gOIng  Well . tHInK   USED . be callEd  agO   iS     do nOT thiNK   OUghT. .. BE. FOrcED .   . sO ThEn prOvE . .. sURVIvE . THINk     OugHt . bE run DemOCraTICaLly—.   AnD .. .  . . .  liVE ANd. . tHInK  .   .  aSsOciATIOn. anD feDerAlISm   . ImaGIne .  Working . .    DON’t. tHInK . CAN laY . just tOgEtHEr HAve OuT . —   . Design  ACTuaLly SimpLy tHinK . . ’vE gOT. .  BUt. .  .  \n"
     ]
    }
   ],
   "source": [
    "spacy_obj = spacy.load('en_core_web_sm')\n",
    "salute_spacy = spacy_obj(the_message)\n",
    "print(salute_spacy[0:200])"
   ]
  },
  {
   "cell_type": "code",
   "execution_count": 203,
   "id": "8887fbee-b168-4bac-8a7b-de864e672b94",
   "metadata": {},
   "outputs": [],
   "source": [
    "#switch chapter-1.txt until footnotes.txt to wrote cjaüter by chapter...\n",
    "##...here for chapter 2:\n",
    "textfile = open(\"./output/chapter2.txt\", \"w\")\n",
    "a = textfile.write(the_message)\n",
    "textfile.close()"
   ]
  }
 ],
 "metadata": {
  "kernelspec": {
   "display_name": "Python 3",
   "language": "python",
   "name": "python3"
  },
  "language_info": {
   "codemirror_mode": {
    "name": "ipython",
    "version": 3
   },
   "file_extension": ".py",
   "mimetype": "text/x-python",
   "name": "python",
   "nbconvert_exporter": "python",
   "pygments_lexer": "ipython3",
   "version": "3.8.8"
  }
 },
 "nbformat": 4,
 "nbformat_minor": 5
}
