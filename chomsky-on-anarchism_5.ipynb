{
 "cells": [
  {
   "cell_type": "code",
   "execution_count": 317,
   "id": "304de747-7f44-4f11-8d93-2c7fb542a509",
   "metadata": {},
   "outputs": [
    {
     "name": "stdout",
     "output_type": "stream",
     "text": [
      "\n",
      "Noam Chomsky\n",
      "On Anarchism\n",
      "2013\n",
      "\n",
      "5. Language and Freedom\n",
      "\n",
      "When I was invited to speak on the topic “language and freedom,” I was puzzled and intrigued. Most of my professional life has been devoted to the study of language. There would be no great difficulty in finding a topic to discuss in that domain. And there is much to say about the problems of freedom and liberation as they pose themselves to us and to others in the mid-twentieth century. What is troublesome in th\n",
      "45395\n"
     ]
    },
    {
     "data": {
      "text/plain": [
       "str"
      ]
     },
     "execution_count": 317,
     "metadata": {},
     "output_type": "execute_result"
    }
   ],
   "source": [
    "# load Textfile »Noam Chomsky On Anarchism« from https://theanarchistlibrary.org/library/noam-chomsky-on-anarchism\n",
    "##switch *1.txt until *footnotes.txt in input-folder to read...\n",
    "##...here for chapter 5:\n",
    "file = open('./input/on-anarchism5.txt', encoding='utf-8')\n",
    "salute_string = file.read()           \n",
    "file.close()\n",
    "\n",
    "print(salute_string[0:474])\n",
    "print(len(salute_string))           \n",
    "type(salute_string)"
   ]
  },
  {
   "cell_type": "code",
   "execution_count": 318,
   "id": "88325b27-b04d-456e-84b6-26b5f076a229",
   "metadata": {},
   "outputs": [],
   "source": [
    "import spacy\n",
    "##! python -m spacy download en_core_web_sm\n",
    "from textblob import TextBlob\n",
    "from textblob.sentiments import NaiveBayesAnalyzer\n",
    "import nltk\n",
    "##nltk.download('movie_reviews')\n",
    "##nltk.download('punkt')\n",
    "import re\n",
    "import random"
   ]
  },
  {
   "cell_type": "code",
   "execution_count": 319,
   "id": "d1768946-b005-47ea-9d72-7255b6c32b45",
   "metadata": {},
   "outputs": [
    {
     "data": {
      "text/plain": [
       "Sentiment(classification='pos', p_pos=1.0, p_neg=1.3476355723182342e-181)"
      ]
     },
     "execution_count": 319,
     "metadata": {},
     "output_type": "execute_result"
    }
   ],
   "source": [
    "blob = TextBlob(salute_string, analyzer=NaiveBayesAnalyzer())\n",
    "blob.sentiment"
   ]
  },
  {
   "cell_type": "code",
   "execution_count": 320,
   "id": "14a5e5bc-b464-4f8c-91cb-e764e37c9a0e",
   "metadata": {},
   "outputs": [],
   "source": [
    "spacy_obj = spacy.load('en_core_web_sm')\n",
    "salute_spacy = spacy_obj(salute_string)"
   ]
  },
  {
   "cell_type": "markdown",
   "id": "0a8a50f0-0c49-43f0-8509-24fa2e7f3507",
   "metadata": {},
   "source": [
    "### **prepositions** are usually wrong"
   ]
  },
  {
   "cell_type": "code",
   "execution_count": 321,
   "id": "690b4314-fadf-45b6-b6dc-f9dd8ea9c054",
   "metadata": {},
   "outputs": [
    {
     "data": {
      "text/plain": [
       "['I', 'I', 'they']"
      ]
     },
     "execution_count": 321,
     "metadata": {},
     "output_type": "execute_result"
    }
   ],
   "source": [
    "prepositions = []\n",
    "for token in salute_spacy:\n",
    "    if token.tag_ == 'PRP':\n",
    "        prepositions.append(token.text)\n",
    "        \n",
    "prepositions[0:3]"
   ]
  },
  {
   "cell_type": "code",
   "execution_count": 322,
   "id": "e71bfabd-0304-4216-91e2-956d74cc89d0",
   "metadata": {},
   "outputs": [],
   "source": [
    "big_regex = re.compile(r'\\b%s\\b' % r'\\b|\\b'.join(map(re.escape, prepositions)))\n",
    "the_message = big_regex.sub(\".\", salute_string)"
   ]
  },
  {
   "cell_type": "code",
   "execution_count": 323,
   "id": "2a09f645-ac1c-450c-b2af-aa032929dfd0",
   "metadata": {},
   "outputs": [
    {
     "data": {
      "text/plain": [
       "Sentiment(classification='pos', p_pos=1.0, p_neg=1.7487426484932552e-179)"
      ]
     },
     "execution_count": 323,
     "metadata": {},
     "output_type": "execute_result"
    }
   ],
   "source": [
    "blob = TextBlob(the_message, analyzer=NaiveBayesAnalyzer())\n",
    "blob.sentiment"
   ]
  },
  {
   "cell_type": "code",
   "execution_count": 324,
   "id": "5fb32cb1-a4bb-461e-9e58-6bde7d235411",
   "metadata": {
    "tags": []
   },
   "outputs": [
    {
     "name": "stdout",
     "output_type": "stream",
     "text": [
      "\n",
      "Noam Chomsky\n",
      "On Anarchism\n",
      "2013\n",
      "\n",
      "5. Language and Freedom\n",
      "\n",
      "When . was invited to speak on the topic “language and freedom,” . was puzzled and intrigued. Most of my professional life has been devoted to the study of language. There would be no great difficulty in finding a topic to discuss in that domain. And there is much to say about the problems of freedom and liberation as . pose . to . and to others in the mid-twentieth century. What is troublesome in the title of this lecture is the conjunction. In what way are language and freedom to be interconnected?\n",
      "\n",
      "As a preliminary, let . say just a word about the contemporary study of language, as . see .. There are many aspects of language and language use that raise intriguing questions, but—in my judgment—only a few have so far led to productive theoretical work. In particular, our deepest insights are in the area of formal grammatical structure. A person who knows a language has acquired a system of rules\n"
     ]
    }
   ],
   "source": [
    "salute_spacy = spacy_obj(the_message)\n",
    "print(salute_spacy[0:200])"
   ]
  },
  {
   "cell_type": "markdown",
   "id": "576b790d-5096-4241-99ea-2d13f8261921",
   "metadata": {},
   "source": [
    "### **adjectives** are not interesting"
   ]
  },
  {
   "cell_type": "code",
   "execution_count": 325,
   "id": "46931f8d-4797-4d8d-9c91-6f93266008f4",
   "metadata": {},
   "outputs": [
    {
     "data": {
      "text/plain": [
       "['Most', 'professional', 'great']"
      ]
     },
     "execution_count": 325,
     "metadata": {},
     "output_type": "execute_result"
    }
   ],
   "source": [
    "adjectives = []\n",
    "for token in salute_spacy:\n",
    "    if token.pos_ == 'ADJ':\n",
    "        adjectives.append(token.text)\n",
    "        \n",
    "adjectives[0:3]"
   ]
  },
  {
   "cell_type": "code",
   "execution_count": 326,
   "id": "c74a0f93-3f80-4594-9e1f-576d96c0527a",
   "metadata": {},
   "outputs": [],
   "source": [
    "big_regex = re.compile(r'\\b%s\\b' % r'\\b|\\b'.join(map(re.escape, adjectives)))\n",
    "the_message = big_regex.sub(\".\", the_message)"
   ]
  },
  {
   "cell_type": "code",
   "execution_count": 327,
   "id": "358ea434-244a-4010-ba4b-398092ef8a26",
   "metadata": {},
   "outputs": [
    {
     "data": {
      "text/plain": [
       "Sentiment(classification='pos', p_pos=1.0, p_neg=5.744740845069186e-139)"
      ]
     },
     "execution_count": 327,
     "metadata": {},
     "output_type": "execute_result"
    }
   ],
   "source": [
    "from textblob import TextBlob\n",
    "from textblob.sentiments import NaiveBayesAnalyzer\n",
    "\n",
    "blob = TextBlob(the_message, analyzer=NaiveBayesAnalyzer())\n",
    "blob.sentiment"
   ]
  },
  {
   "cell_type": "code",
   "execution_count": 328,
   "id": "af05a531-6d84-4cda-84db-2bad6730fd94",
   "metadata": {
    "tags": []
   },
   "outputs": [
    {
     "name": "stdout",
     "output_type": "stream",
     "text": [
      "\n",
      "Noam Chomsky\n",
      "On Anarchism\n",
      "2013\n",
      "\n",
      "5. Language and Freedom\n",
      "\n",
      "When . was invited to speak on the topic “language and freedom,” . was . and intrigued. . of my . life has been devoted to the study of language. There would be no . difficulty in finding a topic to discuss in that domain. And there is . to say about the problems of freedom and liberation as . pose . to . and to others in the ... century. What is . in the title of this lecture is the conjunction. In what way are language and freedom to be interconnected?\n",
      "\n",
      "As a ., let . say just a word about the . study of language, as . see .. There are . aspects of language and language use that raise . questions, but—in my judgment—. a . have so far led to . . work. In ., our . insights are in the area of . . structure. A person who knows a language has acquired a system of rules and principles—a\n"
     ]
    }
   ],
   "source": [
    "spacy_obj = spacy.load('en_core_web_sm')\n",
    "salute_spacy = spacy_obj(the_message)\n",
    "print(salute_spacy[0:200])"
   ]
  },
  {
   "cell_type": "markdown",
   "id": "f090d033-58f4-4939-bb0e-d2e4d950e2b1",
   "metadata": {},
   "source": [
    "### **nouns** are not interesting"
   ]
  },
  {
   "cell_type": "code",
   "execution_count": 329,
   "id": "20abf9e8-ffcc-422c-aa8a-607977ad9029",
   "metadata": {},
   "outputs": [
    {
     "data": {
      "text/plain": [
       "['Anarchism', 'Language', 'topic', 'language', 'freedom']"
      ]
     },
     "execution_count": 329,
     "metadata": {},
     "output_type": "execute_result"
    }
   ],
   "source": [
    "nouns = []\n",
    "for token in salute_spacy:\n",
    "    if token.pos_ == 'NOUN':\n",
    "        nouns.append(token.text)\n",
    "\n",
    "nouns[0:5]"
   ]
  },
  {
   "cell_type": "code",
   "execution_count": 330,
   "id": "efaa1cde-1a89-45dc-bb80-edc068499be8",
   "metadata": {},
   "outputs": [],
   "source": [
    "big_regex = re.compile(r'\\b%s\\b' % r'\\b|\\b'.join(map(re.escape, nouns)))\n",
    "the_message = big_regex.sub(\"\", the_message)"
   ]
  },
  {
   "cell_type": "code",
   "execution_count": 331,
   "id": "ae2baf2e-f028-44a3-9787-554a2c8a9d28",
   "metadata": {},
   "outputs": [
    {
     "data": {
      "text/plain": [
       "Sentiment(classification='pos', p_pos=1.0, p_neg=6.499781968582975e-68)"
      ]
     },
     "execution_count": 331,
     "metadata": {},
     "output_type": "execute_result"
    }
   ],
   "source": [
    "blob = TextBlob(the_message, analyzer=NaiveBayesAnalyzer())\n",
    "blob.sentiment"
   ]
  },
  {
   "cell_type": "code",
   "execution_count": 332,
   "id": "9fa6ce06-19bf-494a-987a-53a901a5b794",
   "metadata": {
    "tags": []
   },
   "outputs": [
    {
     "name": "stdout",
     "output_type": "stream",
     "text": [
      "\n",
      "Noam Chomsky\n",
      "On \n",
      "2013\n",
      "\n",
      "5.  and \n",
      "\n",
      "When . was invited to speak on the  “ and ,” . was . and intrigued. . of my .  has been devoted to the  of . There would be no .  in finding a  to discuss in that . And there is . to say about the  of  and  as . pose . to . and to  in the ... . What is . in the  of this  is the . In what  are  and  to be interconnected?\n",
      "\n",
      "As a ., let . say just a  about the .  of , as . see .. There are .  of  and   that raise . , but—in my —. a . have so far led to . . . In ., our .  are in the  of . . . A  who knows a  has acquired a  of  and —a “. ,” in . —that associates sound and  in\n"
     ]
    }
   ],
   "source": [
    "spacy_obj = spacy.load('en_core_web_sm')\n",
    "salute_spacy = spacy_obj(the_message)\n",
    "print(salute_spacy[0:200])"
   ]
  },
  {
   "cell_type": "markdown",
   "id": "f1dad8e9-3fe5-41c7-a9bd-d977a94741ea",
   "metadata": {},
   "source": [
    "### **verbs** are in motion"
   ]
  },
  {
   "cell_type": "code",
   "execution_count": 333,
   "id": "1db7a687-7a04-4a1d-b256-9cbe5917bb52",
   "metadata": {},
   "outputs": [
    {
     "data": {
      "text/plain": [
       "['invited', 'speak', 'intrigued', 'devoted', 'finding']"
      ]
     },
     "execution_count": 333,
     "metadata": {},
     "output_type": "execute_result"
    }
   ],
   "source": [
    "verbs = []\n",
    "for token in salute_spacy:\n",
    "    if token.pos_ == 'VERB':\n",
    "        verbs.append(token.text)\n",
    "\n",
    "verbs[0:5]"
   ]
  },
  {
   "cell_type": "markdown",
   "id": "be303391-a15c-4aa6-ab77-d3109e3cc4ce",
   "metadata": {},
   "source": [
    "### & **adverbs** moves with them"
   ]
  },
  {
   "cell_type": "code",
   "execution_count": 334,
   "id": "0dd3de4b-823b-4219-8021-347453e11228",
   "metadata": {},
   "outputs": [
    {
     "data": {
      "text/plain": [
       "['just', 'so', 'far']"
      ]
     },
     "execution_count": 334,
     "metadata": {},
     "output_type": "execute_result"
    }
   ],
   "source": [
    "adverbs = []\n",
    "for token in salute_spacy:\n",
    "    if token.pos_ == 'ADV':\n",
    "        adverbs.append(token.text)\n",
    "        \n",
    "adverbs[0:3]"
   ]
  },
  {
   "cell_type": "code",
   "execution_count": 335,
   "id": "03e64918-6502-4d56-be3e-79fbfbe87044",
   "metadata": {},
   "outputs": [
    {
     "data": {
      "text/plain": [
       "['\\nNoam', 'Chomsky\\nOn', '\\n2013\\n\\n5.', '', 'and']"
      ]
     },
     "execution_count": 335,
     "metadata": {},
     "output_type": "execute_result"
    }
   ],
   "source": [
    "salute_list=the_message.split(' ')\n",
    "salute_list[0:5]"
   ]
  },
  {
   "cell_type": "code",
   "execution_count": 336,
   "id": "4d984aca-6ac3-4244-9578-4179d29c8457",
   "metadata": {},
   "outputs": [],
   "source": [
    "for i in range(0, random.randint(0, 500)):\n",
    "    dotx = random.randint(0, len(salute_list))\n",
    "    hoho=random.choice(adverbs) + \" \" + random.choice(adverbs) + \" \" + random.choice(verbs)\n",
    "    hoho=hoho.split(' ')\n",
    "    salute_list = salute_list[:dotx] + hoho + salute_list[dotx:]\n",
    "\n",
    "the_message = ' '.join(salute_list)"
   ]
  },
  {
   "cell_type": "code",
   "execution_count": 337,
   "id": "834bee3e-777f-4461-b9a8-ab2dc81a6d81",
   "metadata": {},
   "outputs": [
    {
     "data": {
      "text/plain": [
       "Sentiment(classification='pos', p_pos=1.0, p_neg=6.499781968589121e-68)"
      ]
     },
     "execution_count": 337,
     "metadata": {},
     "output_type": "execute_result"
    }
   ],
   "source": [
    "blob = TextBlob(the_message, analyzer=NaiveBayesAnalyzer())\n",
    "blob.sentiment"
   ]
  },
  {
   "cell_type": "code",
   "execution_count": 338,
   "id": "9528d5f8-e9f3-4e56-b066-8c7eec0bbc3c",
   "metadata": {
    "tags": []
   },
   "outputs": [
    {
     "name": "stdout",
     "output_type": "stream",
     "text": [
      "\n",
      "Noam Chomsky\n",
      "On \n",
      "2013\n",
      "\n",
      "5.  and \n",
      "\n",
      "When . was invited to speak on the  “ and ,” . was . and intrigued. . of my .  has been devoted to the  of . There would be no .  in finding a  to discuss in that . And there is . to say about the  of  and  as . pose . to . and to  in the ... . What is . in the  of this  is the . In what  are  and  to be interconnected?\n",
      "\n",
      "As a ., let . say just a  about the .  of , as . see .. There are .  of  and   that raise . , but—in my —. a . have so far led to . . . In ., our .  are in the  of . . . A  who knows a  has acquired a  of  and —a “. ,” in . —that associates sound and  in\n"
     ]
    }
   ],
   "source": [
    "spacy_obj = spacy.load('en_core_web_sm')\n",
    "salute_spacy = spacy_obj(the_message)\n",
    "print(salute_spacy[0:200])"
   ]
  },
  {
   "cell_type": "markdown",
   "id": "2dc8148d-f9d1-4dba-8fde-6c80cf5f10e1",
   "metadata": {},
   "source": [
    "### **pronomia** are moving in a very large space of possibility"
   ]
  },
  {
   "cell_type": "code",
   "execution_count": 339,
   "id": "f01467a4-e87e-46c4-8499-0fc6227161cb",
   "metadata": {
    "tags": []
   },
   "outputs": [
    {
     "data": {
      "text/plain": [
       "['my', 'There', 'no', 'that', 'there']"
      ]
     },
     "execution_count": 339,
     "metadata": {},
     "output_type": "execute_result"
    }
   ],
   "source": [
    "pronouns = []\n",
    "for token in salute_spacy:\n",
    "    if token.pos_ == 'PRON':\n",
    "        pre=pronouns.append(token.text)\n",
    "        #print('%-14s' * 3 % (token, token.pos_, token.lemma_))\n",
    "\n",
    "pronouns[0:5]"
   ]
  },
  {
   "cell_type": "code",
   "execution_count": 340,
   "id": "98e045a8-3229-414a-8f42-5fc9d25b7f9a",
   "metadata": {},
   "outputs": [],
   "source": [
    "big_regex = re.compile(r'\\b%s\\b' % r'\\b|\\b'.join(map(re.escape, pronouns)))\n",
    "the_message = big_regex.sub(\".\", the_message)"
   ]
  },
  {
   "cell_type": "code",
   "execution_count": 341,
   "id": "952d04e3-6df3-492e-871c-13db241e80e7",
   "metadata": {},
   "outputs": [
    {
     "data": {
      "text/plain": [
       "Sentiment(classification='pos', p_pos=1.0, p_neg=1.4120219567469484e-67)"
      ]
     },
     "execution_count": 341,
     "metadata": {},
     "output_type": "execute_result"
    }
   ],
   "source": [
    "blob = TextBlob(the_message, analyzer=NaiveBayesAnalyzer())\n",
    "blob.sentiment"
   ]
  },
  {
   "cell_type": "code",
   "execution_count": 342,
   "id": "c1c602d4-4f70-447b-a2df-68b75994937b",
   "metadata": {},
   "outputs": [
    {
     "name": "stdout",
     "output_type": "stream",
     "text": [
      "\n",
      "Noam Chomsky\n",
      "On \n",
      "2013\n",
      "\n",
      "5.  and \n",
      "\n",
      "When . was invited to speak on .  “ and ,” . was . and intrigued. . of . .  has been devoted to .  of . . would be . .  in finding .  to discuss in . . And . is . to say about .  of  and  as . pose . to . and to  in . ... . . is . in .  of .  is . . In .  are  and  to be interconnected?\n",
      "\n",
      "As . ., let . say just .  about . .  of , as . see .. . are .  of  and   . raise . , but—in . —. . . have so far led to . . . In ., . .  are in .  of . . . .  . knows .  has acquired .  of  and —. “. ,” in . —. associates sound and  in\n"
     ]
    }
   ],
   "source": [
    "spacy_obj = spacy.load('en_core_web_sm')\n",
    "salute_spacy = spacy_obj(the_message)\n",
    "print(salute_spacy[0:200])"
   ]
  },
  {
   "cell_type": "markdown",
   "id": "cb0e5cb0-101d-4cd7-bd7f-c43c29dcd3ad",
   "metadata": {},
   "source": [
    "### **names** do not"
   ]
  },
  {
   "cell_type": "code",
   "execution_count": 343,
   "id": "d0086583-9bce-4f74-bc03-48e447235bdb",
   "metadata": {},
   "outputs": [],
   "source": [
    "#doc = nlp(s)\n",
    "#newString = s\n",
    "for i in reversed(salute_spacy.ents):\n",
    "    start = i.start_char\n",
    "    end = start + len(i.text)\n",
    "    salspac = the_message[:start] + '.' + the_message[end:]"
   ]
  },
  {
   "cell_type": "code",
   "execution_count": 344,
   "id": "9ef15761-16c2-4ad0-aba0-33194d73dfe5",
   "metadata": {},
   "outputs": [
    {
     "name": "stdout",
     "output_type": "stream",
     "text": [
      "\n",
      ".\n",
      "On \n",
      "2013\n",
      "\n",
      "5.  and \n",
      "\n",
      "When . was invited to speak on .  “ and ,” . was . and intrigued. . of . .  has been devoted to .  of . . would be . .  in finding .  to discuss in . . And . is . to say about .\n"
     ]
    }
   ],
   "source": [
    "blob = TextBlob(salspac, analyzer=NaiveBayesAnalyzer())\n",
    "blob.sentiment\n",
    "the_message = salspac\n",
    "print(the_message[0:200])"
   ]
  },
  {
   "cell_type": "markdown",
   "id": "bcf2abec-fcbf-422e-be84-25be8912f237",
   "metadata": {},
   "source": [
    "### **upper and lower case spelling** is fun to play with "
   ]
  },
  {
   "cell_type": "code",
   "execution_count": 345,
   "id": "d6bc86ae-874c-4856-8d30-165262233c1f",
   "metadata": {
    "tags": []
   },
   "outputs": [],
   "source": [
    "salutebreak=the_message.replace('\\n', ' ')\n",
    "the_message=''.join(random.choice((str.upper,str.lower))(x) for x in salutebreak)"
   ]
  },
  {
   "cell_type": "code",
   "execution_count": 346,
   "id": "daa2a738-1d27-4216-88a4-b760668fc12d",
   "metadata": {},
   "outputs": [
    {
     "data": {
      "text/plain": [
       "Sentiment(classification='pos', p_pos=1.0, p_neg=1.4120219567469484e-67)"
      ]
     },
     "execution_count": 346,
     "metadata": {},
     "output_type": "execute_result"
    }
   ],
   "source": [
    "blob = TextBlob(the_message, analyzer=NaiveBayesAnalyzer())\n",
    "blob.sentiment"
   ]
  },
  {
   "cell_type": "code",
   "execution_count": 347,
   "id": "9fda3407-c843-4669-a643-8766910efe67",
   "metadata": {},
   "outputs": [
    {
     "name": "stdout",
     "output_type": "stream",
     "text": [
      " . on  2013  5.  And   WHeN . WaS iNViTEd to spEaK oN .  “ anD ,” . WAs . anD InTrIguED. . of . .  hAS beEn DEVOTEd TO .  Of . . wOulD Be . .  iN fiNdINg .  To DiscusS iN . . aNd . iS . tO saY About .  oF  and  as . PoSe . TO . anD tO  In . ... . . is . in .  of .  IS . . In .  are  anD  TO Be INTErcONNEcted?  AS . ., LeT . Say JUst .  aBOUT . .  Of , As . seE .. . aRe .  oF  aND   . RAISE . , buT—iN . —. . . have SO Far LeD tO . . . iN ., . .  ARE iN .  Of . . . .  . kNOws .  HaS ACquIRed .  OF  aNd —. “. ,” iN . —. aSSoCiatES sOUND ANd  IN . .\n"
     ]
    }
   ],
   "source": [
    "spacy_obj = spacy.load('en_core_web_sm')\n",
    "salute_spacy = spacy_obj(the_message)\n",
    "print(salute_spacy[0:200])"
   ]
  },
  {
   "cell_type": "markdown",
   "id": "6eb2e218-0919-42e9-9aa6-2d8681c37215",
   "metadata": {},
   "source": [
    "### **question marks** are uninteresting\n",
    "#### **exclamation marks and inverted commas** are unnecessary and ugly\n",
    "##### **commas** are useless"
   ]
  },
  {
   "cell_type": "code",
   "execution_count": 348,
   "id": "e8f2568b-70b5-48c7-a601-2aa8eb614b6d",
   "metadata": {},
   "outputs": [],
   "source": [
    "sal=the_message.translate({ord(ch):'' for ch in '!?;:“”,*\"#.'}).replace('\\n', ' ')"
   ]
  },
  {
   "cell_type": "code",
   "execution_count": 349,
   "id": "513fea8a-1dcd-4ba3-a2f1-8924dbd4de71",
   "metadata": {},
   "outputs": [],
   "source": [
    "salute_list=sal.split(' ')"
   ]
  },
  {
   "cell_type": "markdown",
   "id": "433c61a6-6f7c-425a-b071-9c30fe0fe730",
   "metadata": {},
   "source": [
    "### the **dot** leads the text to its own life"
   ]
  },
  {
   "cell_type": "code",
   "execution_count": 350,
   "id": "f390225f-cd98-4c1c-ab9f-3f77119c5bf3",
   "metadata": {},
   "outputs": [],
   "source": [
    "dot = ['.']\n",
    "\n",
    "\n",
    "for i in range(0, random.randint(0, 10000)):\n",
    "    dotx = random.randint(0, len(salute_list))\n",
    "    salute_list = salute_list[:dotx] + dot + salute_list[dotx:]\n",
    "\n",
    "salute_string2 = ' '.join(salute_list)\n",
    "\n",
    "the_message=re.sub(r'\\s([.](?:\\s|$))', r'\\1', salute_string2)"
   ]
  },
  {
   "cell_type": "code",
   "execution_count": 351,
   "id": "b25890b2-921c-4b6b-bbf6-9ab1a656f9be",
   "metadata": {},
   "outputs": [
    {
     "data": {
      "text/plain": [
       "Sentiment(classification='pos', p_pos=1.0, p_neg=4.236065870239943e-67)"
      ]
     },
     "execution_count": 351,
     "metadata": {},
     "output_type": "execute_result"
    }
   ],
   "source": [
    "blob = TextBlob(the_message, analyzer=NaiveBayesAnalyzer())\n",
    "blob.sentiment"
   ]
  },
  {
   "cell_type": "code",
   "execution_count": 352,
   "id": "83469ec5-f96b-4fc3-bb68-82c4428f9902",
   "metadata": {
    "tags": []
   },
   "outputs": [
    {
     "name": "stdout",
     "output_type": "stream",
     "text": [
      " . . on  2013 . . 5  And   WHeN. . WaS iNViTEd to spEaK oN .   anD   WAs.  anD InTrIguED. . . of.    hAS beEn. DEVOTEd TO   Of   wOulD Be. .. . . . . iN. .. fiNdINg  . To DiscusS iN  . aNd  iS. . . tO. saY. About . . . . oF . .. and . as. .  PoSe  TO  anD tO  In. .  . .  . is . in .  of. .   IS  . In   are. . . anD  TO Be INTErcONNEcted  AS  . LeT. . Say JUst  . aBOUT . .   Of  As.  seE. .  . aRe . .. . . oF  aND. .. .. .   RAISE .  buT—iN . — .  have SO Far. LeD tO . .   iN.  . .   ARE iN   Of  .  .  . kNOws   HaS ACquIRed . . OF.  aNd —\n"
     ]
    }
   ],
   "source": [
    "spacy_obj = spacy.load('en_core_web_sm')\n",
    "salute_spacy = spacy_obj(the_message)\n",
    "print(salute_spacy[0:200])"
   ]
  },
  {
   "cell_type": "markdown",
   "id": "e57fca2d-dcbf-4be0-847a-2050d5a8237b",
   "metadata": {},
   "source": [
    "### ...and interjections ???"
   ]
  },
  {
   "cell_type": "code",
   "execution_count": 353,
   "id": "d8fc9e61-8d98-428d-a9a6-245b5918d3c1",
   "metadata": {},
   "outputs": [
    {
     "data": {
      "text/plain": [
       "['on', 'to', 'oN']"
      ]
     },
     "execution_count": 353,
     "metadata": {},
     "output_type": "execute_result"
    }
   ],
   "source": [
    "interjections = []\n",
    "for token in salute_spacy:\n",
    "    if token.pos_ == 'ADP':\n",
    "        interjections.append(token.text)\n",
    "        \n",
    "interjections[0:3]"
   ]
  },
  {
   "cell_type": "code",
   "execution_count": 354,
   "id": "4c3c5b30-73f4-4f3a-afa7-4eeb58690582",
   "metadata": {},
   "outputs": [
    {
     "name": "stdout",
     "output_type": "stream",
     "text": [
      " . . .  2013 . . 5  And   WHeN. . WaS iNViTEd . spEaK . .   anD   WAs.  anD InTrIguED. . . ..    hAS beEn. DEVOTEd .   .   wOulD Be. .. . . . . .. .. fiNdINg  . . DiscusS .  . aNd  iS. . . .. saY. . .\n"
     ]
    }
   ],
   "source": [
    "big_regex = re.compile(r'\\b%s\\b' % r'\\b|\\b'.join(map(re.escape, interjections)))\n",
    "the_message = big_regex.sub(\".\", the_message)\n",
    "print(the_message[0:200])"
   ]
  },
  {
   "cell_type": "code",
   "execution_count": 355,
   "id": "8b6d1981-7a74-4d41-a7df-314d8e3b53d0",
   "metadata": {},
   "outputs": [
    {
     "data": {
      "text/plain": [
       "Sentiment(classification='pos', p_pos=1.0, p_neg=2.384259656130838e-66)"
      ]
     },
     "execution_count": 355,
     "metadata": {},
     "output_type": "execute_result"
    }
   ],
   "source": [
    "blob = TextBlob(the_message, analyzer=NaiveBayesAnalyzer())\n",
    "blob.sentiment"
   ]
  },
  {
   "cell_type": "code",
   "execution_count": 356,
   "id": "df3a7b19-0adc-4776-a672-095de74b8589",
   "metadata": {},
   "outputs": [
    {
     "name": "stdout",
     "output_type": "stream",
     "text": [
      " . . .  2013 . . 5  And   WHeN. . WaS iNViTEd . spEaK . .   anD   WAs.  anD InTrIguED. . . ..    hAS beEn. DEVOTEd .   .   wOulD Be. .. . . . . .. .. fiNdINg  . . DiscusS .  . aNd  iS. . . .. saY. . . . . . . . .. and . .. .  PoSe  .  anD .  .. .  . .  . is . . .  .. .   IS  . .   are. . . anD  . Be INTErcONNEcted  .  . LeT. . Say JUst  . . . .   .  ..  seE. .  . aRe . .. . . .  aND. .. .. .   RAISE .  buT—. . — .  have SO Far. LeD . . .   ..  . .   ARE .   .  .  .  . kNOws   HaS ACquIRed . . ..  aNd —  . .  —. . aSSoCiatES\n"
     ]
    }
   ],
   "source": [
    "spacy_obj = spacy.load('en_core_web_sm')\n",
    "salute_spacy = spacy_obj(the_message)\n",
    "print(salute_spacy[0:200])"
   ]
  },
  {
   "cell_type": "code",
   "execution_count": 357,
   "id": "8887fbee-b168-4bac-8a7b-de864e672b94",
   "metadata": {},
   "outputs": [],
   "source": [
    "#switch chapter-1.txt until footnotes.txt to wrote cjaüter by chapter...\n",
    "##...here for chapter 5:\n",
    "textfile = open(\"./output/chapter5.txt\", \"w\")\n",
    "a = textfile.write(the_message)\n",
    "textfile.close()"
   ]
  }
 ],
 "metadata": {
  "kernelspec": {
   "display_name": "Python 3",
   "language": "python",
   "name": "python3"
  },
  "language_info": {
   "codemirror_mode": {
    "name": "ipython",
    "version": 3
   },
   "file_extension": ".py",
   "mimetype": "text/x-python",
   "name": "python",
   "nbconvert_exporter": "python",
   "pygments_lexer": "ipython3",
   "version": "3.8.8"
  }
 },
 "nbformat": 4,
 "nbformat_minor": 5
}
