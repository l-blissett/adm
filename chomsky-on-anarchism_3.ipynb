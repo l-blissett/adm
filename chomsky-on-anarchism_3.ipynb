{
 "cells": [
  {
   "cell_type": "code",
   "execution_count": 203,
   "id": "304de747-7f44-4f11-8d93-2c7fb542a509",
   "metadata": {},
   "outputs": [
    {
     "name": "stdout",
     "output_type": "stream",
     "text": [
      "\n",
      "Noam Chomsky\n",
      "On Anarchism\n",
      "2013\n",
      "\n",
      "3. Part II of Objectivity and Liberal Scholarship\n",
      "\n",
      "If it is plausible that ideology will in general serve as a mask for self-interest, then it is a natural presumption that intellectuals, in interpreting history or formulating policy, will tend to adopt an elitist position, condemning popular movements and mass participation in decision making, and emphasizing rather the necessity for supervision by those who possess the knowledge and un\n",
      "101103\n"
     ]
    },
    {
     "data": {
      "text/plain": [
       "str"
      ]
     },
     "execution_count": 203,
     "metadata": {},
     "output_type": "execute_result"
    }
   ],
   "source": [
    "# load Textfile »Noam Chomsky On Anarchism« from https://theanarchistlibrary.org/library/noam-chomsky-on-anarchism\n",
    "##switch *1.txt until *footnotes.txt in input-folder to read...\n",
    "##...here for chapter 3:\n",
    "file = open('./input/on-anarchism3.txt', encoding='utf-8')\n",
    "salute_string = file.read()           \n",
    "file.close()\n",
    "\n",
    "print(salute_string[0:474])\n",
    "print(len(salute_string))           \n",
    "type(salute_string)"
   ]
  },
  {
   "cell_type": "code",
   "execution_count": 204,
   "id": "88325b27-b04d-456e-84b6-26b5f076a229",
   "metadata": {},
   "outputs": [],
   "source": [
    "import spacy\n",
    "##! python -m spacy download en_core_web_sm\n",
    "from textblob import TextBlob\n",
    "from textblob.sentiments import NaiveBayesAnalyzer\n",
    "import nltk\n",
    "##nltk.download('movie_reviews')\n",
    "##nltk.download('punkt')\n",
    "import re\n",
    "import random"
   ]
  },
  {
   "cell_type": "code",
   "execution_count": 205,
   "id": "d1768946-b005-47ea-9d72-7255b6c32b45",
   "metadata": {},
   "outputs": [
    {
     "data": {
      "text/plain": [
       "Sentiment(classification='pos', p_pos=1.0, p_neg=4.659347666103621e-277)"
      ]
     },
     "execution_count": 205,
     "metadata": {},
     "output_type": "execute_result"
    }
   ],
   "source": [
    "blob = TextBlob(salute_string, analyzer=NaiveBayesAnalyzer())\n",
    "blob.sentiment"
   ]
  },
  {
   "cell_type": "code",
   "execution_count": 206,
   "id": "14a5e5bc-b464-4f8c-91cb-e764e37c9a0e",
   "metadata": {},
   "outputs": [],
   "source": [
    "spacy_obj = spacy.load('en_core_web_sm')\n",
    "salute_spacy = spacy_obj(salute_string)"
   ]
  },
  {
   "cell_type": "markdown",
   "id": "0a8a50f0-0c49-43f0-8509-24fa2e7f3507",
   "metadata": {},
   "source": [
    "### **prepositions** are usually wrong"
   ]
  },
  {
   "cell_type": "code",
   "execution_count": 207,
   "id": "690b4314-fadf-45b6-b6dc-f9dd8ea9c054",
   "metadata": {},
   "outputs": [
    {
     "data": {
      "text/plain": [
       "['it', 'it', 'they']"
      ]
     },
     "execution_count": 207,
     "metadata": {},
     "output_type": "execute_result"
    }
   ],
   "source": [
    "prepositions = []\n",
    "for token in salute_spacy:\n",
    "    if token.tag_ == 'PRP':\n",
    "        prepositions.append(token.text)\n",
    "        \n",
    "prepositions[0:3]"
   ]
  },
  {
   "cell_type": "code",
   "execution_count": 208,
   "id": "e71bfabd-0304-4216-91e2-956d74cc89d0",
   "metadata": {},
   "outputs": [],
   "source": [
    "big_regex = re.compile(r'\\b%s\\b' % r'\\b|\\b'.join(map(re.escape, prepositions)))\n",
    "the_message = big_regex.sub(\".\", salute_string)"
   ]
  },
  {
   "cell_type": "code",
   "execution_count": 209,
   "id": "2a09f645-ac1c-450c-b2af-aa032929dfd0",
   "metadata": {},
   "outputs": [
    {
     "data": {
      "text/plain": [
       "Sentiment(classification='pos', p_pos=1.0, p_neg=3.618650874099723e-276)"
      ]
     },
     "execution_count": 209,
     "metadata": {},
     "output_type": "execute_result"
    }
   ],
   "source": [
    "blob = TextBlob(the_message, analyzer=NaiveBayesAnalyzer())\n",
    "blob.sentiment"
   ]
  },
  {
   "cell_type": "code",
   "execution_count": 210,
   "id": "5fb32cb1-a4bb-461e-9e58-6bde7d235411",
   "metadata": {
    "tags": []
   },
   "outputs": [
    {
     "name": "stdout",
     "output_type": "stream",
     "text": [
      "\n",
      "Noam Chomsky\n",
      "On Anarchism\n",
      "2013\n",
      "\n",
      "3. Part II of Objectivity and Liberal Scholarship\n",
      "\n",
      "If . is plausible that ideology will in general serve as a mask for self-interest, then . is a natural presumption that intellectuals, in interpreting history or formulating policy, will tend to adopt an elitist position, condemning popular movements and mass participation in decision making, and emphasizing rather the necessity for supervision by those who possess the knowledge and understanding that is required (so . claim) to manage society and control social change. This is hardly a novel thought. . major element in the anarchist critique of Marxism a century ago was the prediction that, as Bakunin formulated .:\n",
      "\n",
      "    According to the theory of Mr. Marx, the people not only must not destroy [the state] but must strengthen . and place . at the complete disposal of their benefactors, guardians, and teachers—the leaders of the Communist party, namely Mr. Marx and his friends, who will proceed to liberate [mankind] in their own way. . will\n"
     ]
    }
   ],
   "source": [
    "salute_spacy = spacy_obj(the_message)\n",
    "print(salute_spacy[0:200])"
   ]
  },
  {
   "cell_type": "markdown",
   "id": "576b790d-5096-4241-99ea-2d13f8261921",
   "metadata": {},
   "source": [
    "### **adjectives** are not interesting"
   ]
  },
  {
   "cell_type": "code",
   "execution_count": 211,
   "id": "46931f8d-4797-4d8d-9c91-6f93266008f4",
   "metadata": {},
   "outputs": [
    {
     "data": {
      "text/plain": [
       "['plausible', 'general', 'natural']"
      ]
     },
     "execution_count": 211,
     "metadata": {},
     "output_type": "execute_result"
    }
   ],
   "source": [
    "adjectives = []\n",
    "for token in salute_spacy:\n",
    "    if token.pos_ == 'ADJ':\n",
    "        adjectives.append(token.text)\n",
    "        \n",
    "adjectives[0:3]"
   ]
  },
  {
   "cell_type": "code",
   "execution_count": 212,
   "id": "c74a0f93-3f80-4594-9e1f-576d96c0527a",
   "metadata": {},
   "outputs": [],
   "source": [
    "big_regex = re.compile(r'\\b%s\\b' % r'\\b|\\b'.join(map(re.escape, adjectives)))\n",
    "the_message = big_regex.sub(\".\", the_message)"
   ]
  },
  {
   "cell_type": "code",
   "execution_count": 213,
   "id": "358ea434-244a-4010-ba4b-398092ef8a26",
   "metadata": {},
   "outputs": [
    {
     "data": {
      "text/plain": [
       "Sentiment(classification='pos', p_pos=1.0, p_neg=1.5062149333263695e-221)"
      ]
     },
     "execution_count": 213,
     "metadata": {},
     "output_type": "execute_result"
    }
   ],
   "source": [
    "from textblob import TextBlob\n",
    "from textblob.sentiments import NaiveBayesAnalyzer\n",
    "\n",
    "blob = TextBlob(the_message, analyzer=NaiveBayesAnalyzer())\n",
    "blob.sentiment"
   ]
  },
  {
   "cell_type": "code",
   "execution_count": 214,
   "id": "af05a531-6d84-4cda-84db-2bad6730fd94",
   "metadata": {
    "tags": []
   },
   "outputs": [
    {
     "name": "stdout",
     "output_type": "stream",
     "text": [
      "\n",
      "Noam Chomsky\n",
      "On Anarchism\n",
      "2013\n",
      "\n",
      "3. Part II of Objectivity and Liberal Scholarship\n",
      "\n",
      "If . is . that ideology will in . serve as a mask for self.interest, then . is a . presumption that intellectuals, in interpreting history or formulating policy, will tend to adopt an . position, condemning . movements and . participation in decision making, and emphasizing rather the necessity for supervision by those who possess the knowledge and understanding that is required (so . claim) to manage society and control . change. This is hardly a novel thought. . . element in the . critique of Marxism a century ago was the prediction that, as Bakunin formulated .:\n",
      "\n",
      "    According to the theory of Mr. Marx, the people not . must not destroy [the state] but must strengthen . and place . at the . disposal of their benefactors, guardians, and teachers—the leaders of the . party, namely Mr. Marx and his friends, who will proceed to liberate [mankind] in their . way. . will concentrate the\n"
     ]
    }
   ],
   "source": [
    "spacy_obj = spacy.load('en_core_web_sm')\n",
    "salute_spacy = spacy_obj(the_message)\n",
    "print(salute_spacy[0:200])"
   ]
  },
  {
   "cell_type": "markdown",
   "id": "f090d033-58f4-4939-bb0e-d2e4d950e2b1",
   "metadata": {},
   "source": [
    "### **nouns** are not interesting"
   ]
  },
  {
   "cell_type": "code",
   "execution_count": 215,
   "id": "20abf9e8-ffcc-422c-aa8a-607977ad9029",
   "metadata": {},
   "outputs": [
    {
     "data": {
      "text/plain": [
       "['Anarchism', 'ideology', 'mask', 'presumption', 'intellectuals']"
      ]
     },
     "execution_count": 215,
     "metadata": {},
     "output_type": "execute_result"
    }
   ],
   "source": [
    "nouns = []\n",
    "for token in salute_spacy:\n",
    "    if token.pos_ == 'NOUN':\n",
    "        nouns.append(token.text)\n",
    "\n",
    "nouns[0:5]"
   ]
  },
  {
   "cell_type": "code",
   "execution_count": 216,
   "id": "efaa1cde-1a89-45dc-bb80-edc068499be8",
   "metadata": {},
   "outputs": [],
   "source": [
    "big_regex = re.compile(r'\\b%s\\b' % r'\\b|\\b'.join(map(re.escape, nouns)))\n",
    "the_message = big_regex.sub(\"\", the_message)"
   ]
  },
  {
   "cell_type": "code",
   "execution_count": 217,
   "id": "ae2baf2e-f028-44a3-9787-554a2c8a9d28",
   "metadata": {},
   "outputs": [
    {
     "data": {
      "text/plain": [
       "Sentiment(classification='pos', p_pos=1.0, p_neg=1.0187449946326584e-100)"
      ]
     },
     "execution_count": 217,
     "metadata": {},
     "output_type": "execute_result"
    }
   ],
   "source": [
    "blob = TextBlob(the_message, analyzer=NaiveBayesAnalyzer())\n",
    "blob.sentiment"
   ]
  },
  {
   "cell_type": "code",
   "execution_count": 218,
   "id": "9fa6ce06-19bf-494a-987a-53a901a5b794",
   "metadata": {
    "tags": []
   },
   "outputs": [
    {
     "name": "stdout",
     "output_type": "stream",
     "text": [
      "\n",
      "Noam Chomsky\n",
      "On \n",
      "2013\n",
      "\n",
      "3. Part II of Objectivity and Liberal Scholarship\n",
      "\n",
      "If . is . that   in . serve as a  for self, then . is a .  that , in interpreting  or  ,  tend to adopt an . , condemning .  and .  in  , and emphasizing rather the  for  by those who possess the  and  that is required (so . ) to manage  and  . . This is hardly a  . . .  in the .  of Marxism a  ago was the  that, as Bakunin formulated .:\n",
      "\n",
      "    According to the  of Mr. Marx, the  not . must not destroy [the ] but must strengthen . and  . at the .  of their , , and —the  of the . , namely Mr. Marx and his , who  proceed to liberate [] in their . . .  concentrate the  of  in a . , because the .  require an exceedingly . ; .\n"
     ]
    }
   ],
   "source": [
    "spacy_obj = spacy.load('en_core_web_sm')\n",
    "salute_spacy = spacy_obj(the_message)\n",
    "print(salute_spacy[0:200])"
   ]
  },
  {
   "cell_type": "markdown",
   "id": "f1dad8e9-3fe5-41c7-a9bd-d977a94741ea",
   "metadata": {},
   "source": [
    "### **verbs** are in motion"
   ]
  },
  {
   "cell_type": "code",
   "execution_count": 219,
   "id": "1db7a687-7a04-4a1d-b256-9cbe5917bb52",
   "metadata": {},
   "outputs": [
    {
     "data": {
      "text/plain": [
       "['serve', 'interpreting', 'tend', 'adopt', 'condemning']"
      ]
     },
     "execution_count": 219,
     "metadata": {},
     "output_type": "execute_result"
    }
   ],
   "source": [
    "verbs = []\n",
    "for token in salute_spacy:\n",
    "    if token.pos_ == 'VERB':\n",
    "        verbs.append(token.text)\n",
    "\n",
    "verbs[0:5]"
   ]
  },
  {
   "cell_type": "markdown",
   "id": "be303391-a15c-4aa6-ab77-d3109e3cc4ce",
   "metadata": {},
   "source": [
    "### & **adverbs** moves with them"
   ]
  },
  {
   "cell_type": "code",
   "execution_count": 220,
   "id": "0dd3de4b-823b-4219-8021-347453e11228",
   "metadata": {},
   "outputs": [
    {
     "data": {
      "text/plain": [
       "['then', 'rather', 'so']"
      ]
     },
     "execution_count": 220,
     "metadata": {},
     "output_type": "execute_result"
    }
   ],
   "source": [
    "adverbs = []\n",
    "for token in salute_spacy:\n",
    "    if token.pos_ == 'ADV':\n",
    "        adverbs.append(token.text)\n",
    "        \n",
    "adverbs[0:3]"
   ]
  },
  {
   "cell_type": "code",
   "execution_count": 221,
   "id": "03e64918-6502-4d56-be3e-79fbfbe87044",
   "metadata": {},
   "outputs": [
    {
     "data": {
      "text/plain": [
       "['\\nNoam', 'Chomsky\\nOn', '\\n2013\\n\\n3.', 'Part', 'II']"
      ]
     },
     "execution_count": 221,
     "metadata": {},
     "output_type": "execute_result"
    }
   ],
   "source": [
    "salute_list=the_message.split(' ')\n",
    "salute_list[0:5]"
   ]
  },
  {
   "cell_type": "code",
   "execution_count": 222,
   "id": "4d984aca-6ac3-4244-9578-4179d29c8457",
   "metadata": {},
   "outputs": [],
   "source": [
    "for i in range(0, random.randint(0, 500)):\n",
    "    dotx = random.randint(0, len(salute_list))\n",
    "    hoho=random.choice(adverbs) + \" \" + random.choice(adverbs) + \" \" + random.choice(verbs)\n",
    "    hoho=hoho.split(' ')\n",
    "    salute_list = salute_list[:dotx] + hoho + salute_list[dotx:]\n",
    "\n",
    "the_message = ' '.join(salute_list)"
   ]
  },
  {
   "cell_type": "code",
   "execution_count": 223,
   "id": "834bee3e-777f-4461-b9a8-ab2dc81a6d81",
   "metadata": {},
   "outputs": [
    {
     "data": {
      "text/plain": [
       "Sentiment(classification='pos', p_pos=1.0, p_neg=3.084579770983649e-101)"
      ]
     },
     "execution_count": 223,
     "metadata": {},
     "output_type": "execute_result"
    }
   ],
   "source": [
    "blob = TextBlob(the_message, analyzer=NaiveBayesAnalyzer())\n",
    "blob.sentiment"
   ]
  },
  {
   "cell_type": "code",
   "execution_count": 224,
   "id": "9528d5f8-e9f3-4e56-b066-8c7eec0bbc3c",
   "metadata": {
    "tags": []
   },
   "outputs": [
    {
     "name": "stdout",
     "output_type": "stream",
     "text": [
      "\n",
      "Noam Chomsky\n",
      "On \n",
      "2013\n",
      "\n",
      "3. Part II of Objectivity and Liberal Scholarship\n",
      "\n",
      "If . is . that   in . serve as a  for self, then . is a .  that , in interpreting  or  again publicly follows ,  tend to Shortly no put adopt an . , condemning .  and .  in  , and emphasizing rather the  for  by those who possess the  and  that is required (so . ) to manage  and  . . This is hardly a  . . .  in the .  of Marxism a  ago was the  that, as Bakunin formulated .:\n",
      "\n",
      "    According to the  of Mr. Marx, the  not . must not destroy [the ] but must strengthen . and  . at the .  of their , , and —the  as no lead of the . , especially as accepted namely Mr. Marx and his , who  proceed to liberate [] in their . . .  concentrate the  of  in a\n"
     ]
    }
   ],
   "source": [
    "spacy_obj = spacy.load('en_core_web_sm')\n",
    "salute_spacy = spacy_obj(the_message)\n",
    "print(salute_spacy[0:200])"
   ]
  },
  {
   "cell_type": "markdown",
   "id": "2dc8148d-f9d1-4dba-8fde-6c80cf5f10e1",
   "metadata": {},
   "source": [
    "### **pronomia** are moving in a very large space of possibility"
   ]
  },
  {
   "cell_type": "code",
   "execution_count": 225,
   "id": "f01467a4-e87e-46c4-8499-0fc6227161cb",
   "metadata": {
    "tags": []
   },
   "outputs": [
    {
     "data": {
      "text/plain": [
       "['a', 'that', 'those', 'who', 'that']"
      ]
     },
     "execution_count": 225,
     "metadata": {},
     "output_type": "execute_result"
    }
   ],
   "source": [
    "pronouns = []\n",
    "for token in salute_spacy:\n",
    "    if token.pos_ == 'PRON':\n",
    "        pre=pronouns.append(token.text)\n",
    "        #print('%-14s' * 3 % (token, token.pos_, token.lemma_))\n",
    "\n",
    "pronouns[0:5]"
   ]
  },
  {
   "cell_type": "code",
   "execution_count": 226,
   "id": "98e045a8-3229-414a-8f42-5fc9d25b7f9a",
   "metadata": {},
   "outputs": [],
   "source": [
    "big_regex = re.compile(r'\\b%s\\b' % r'\\b|\\b'.join(map(re.escape, pronouns)))\n",
    "the_message = big_regex.sub(\".\", the_message)"
   ]
  },
  {
   "cell_type": "code",
   "execution_count": 227,
   "id": "952d04e3-6df3-492e-871c-13db241e80e7",
   "metadata": {},
   "outputs": [
    {
     "data": {
      "text/plain": [
       "Sentiment(classification='pos', p_pos=1.0, p_neg=4.210708052629808e-101)"
      ]
     },
     "execution_count": 227,
     "metadata": {},
     "output_type": "execute_result"
    }
   ],
   "source": [
    "blob = TextBlob(the_message, analyzer=NaiveBayesAnalyzer())\n",
    "blob.sentiment"
   ]
  },
  {
   "cell_type": "code",
   "execution_count": 228,
   "id": "c1c602d4-4f70-447b-a2df-68b75994937b",
   "metadata": {},
   "outputs": [
    {
     "name": "stdout",
     "output_type": "stream",
     "text": [
      "\n",
      "Noam Chomsky\n",
      "On \n",
      "2013\n",
      "\n",
      "3. Part II of Objectivity and Liberal Scholarship\n",
      "\n",
      "If . is . .   in . serve as .  for self, then . is . .  . , in interpreting  or  again publicly follows ,  tend to Shortly . put adopt . . , condemning .  and .  in  , and emphasizing rather .  for  by . . possess .  and  . is required (so . ) to manage  and  . . . is hardly .  . . .  in . .  of Marxism .  ago was .  ., as Bakunin formulated .:\n",
      "\n",
      "    According to .  of Mr. Marx, .  not . must not destroy [. ] but must strengthen . and  . at . .  of . , , and —.  as . lead of . . , especially as accepted namely Mr. Marx and . , .  proceed to liberate [] in . . . .  concentrate .  of  in .\n"
     ]
    }
   ],
   "source": [
    "spacy_obj = spacy.load('en_core_web_sm')\n",
    "salute_spacy = spacy_obj(the_message)\n",
    "print(salute_spacy[0:200])"
   ]
  },
  {
   "cell_type": "markdown",
   "id": "cb0e5cb0-101d-4cd7-bd7f-c43c29dcd3ad",
   "metadata": {},
   "source": [
    "### **names** do not"
   ]
  },
  {
   "cell_type": "code",
   "execution_count": 229,
   "id": "d0086583-9bce-4f74-bc03-48e447235bdb",
   "metadata": {},
   "outputs": [],
   "source": [
    "#doc = nlp(s)\n",
    "#newString = s\n",
    "for i in reversed(salute_spacy.ents):\n",
    "    start = i.start_char\n",
    "    end = start + len(i.text)\n",
    "    salspac = the_message[:start] + '.' + the_message[end:]"
   ]
  },
  {
   "cell_type": "code",
   "execution_count": 230,
   "id": "9ef15761-16c2-4ad0-aba0-33194d73dfe5",
   "metadata": {},
   "outputs": [
    {
     "name": "stdout",
     "output_type": "stream",
     "text": [
      "\n",
      ".\n",
      "On \n",
      "2013\n",
      "\n",
      "3. Part II of Objectivity and Liberal Scholarship\n",
      "\n",
      "If . is . .   in . serve as .  for self, then . is . .  . , in interpreting  or  again publicly follows ,  tend to Shortly . put adopt .\n"
     ]
    }
   ],
   "source": [
    "blob = TextBlob(salspac, analyzer=NaiveBayesAnalyzer())\n",
    "blob.sentiment\n",
    "the_message = salspac\n",
    "print(the_message[0:200])"
   ]
  },
  {
   "cell_type": "markdown",
   "id": "bcf2abec-fcbf-422e-be84-25be8912f237",
   "metadata": {},
   "source": [
    "### **upper and lower case spelling** is fun to play with "
   ]
  },
  {
   "cell_type": "code",
   "execution_count": 231,
   "id": "d6bc86ae-874c-4856-8d30-165262233c1f",
   "metadata": {
    "tags": []
   },
   "outputs": [],
   "source": [
    "salutebreak=the_message.replace('\\n', ' ')\n",
    "the_message=''.join(random.choice((str.upper,str.lower))(x) for x in salutebreak)"
   ]
  },
  {
   "cell_type": "code",
   "execution_count": 232,
   "id": "daa2a738-1d27-4216-88a4-b760668fc12d",
   "metadata": {},
   "outputs": [
    {
     "data": {
      "text/plain": [
       "Sentiment(classification='pos', p_pos=1.0, p_neg=4.210708052629808e-101)"
      ]
     },
     "execution_count": 232,
     "metadata": {},
     "output_type": "execute_result"
    }
   ],
   "source": [
    "blob = TextBlob(the_message, analyzer=NaiveBayesAnalyzer())\n",
    "blob.sentiment"
   ]
  },
  {
   "cell_type": "code",
   "execution_count": 233,
   "id": "9fda3407-c843-4669-a643-8766910efe67",
   "metadata": {},
   "outputs": [
    {
     "name": "stdout",
     "output_type": "stream",
     "text": [
      " . on  2013  3. PaRT Ii Of OBJectIvity AND libEral SChOlaRShIp  if . iS . .   iN . SERVE aS .  For selF, THen . iS . .  . , in inTERprEtinG  oR  aGAIn pUBliClY fOLLOwS ,  tend TO shortlY . Put adopT . . , cOnDeMniNG .  AND .  In  , AND emPHasIziNG raTHEr .  fOR  by . . PoSsESS .  ANd  . Is REqUiReD (so . ) to MaNaGE  AND  . . . iS hArDlY .  . . .  iN . .  OF marXIsM .  AGO was .  ., aS bAKuNIN FOrmUlAteD .:      AccORDInG To .  Of Mr. MArx, .  NOt . must nOt destROY [. ] BUT MUSt STrengtheN . AnD  . at . .  Of . , , aNd —.  as . leAd of . . , eSPeciALLy aS ACCeptEd NamelY mR. maRX AND . , .  proceeD To lIBEratE [] in . . . .  CONcEnTraTe .  oF  IN . . ,\n"
     ]
    }
   ],
   "source": [
    "spacy_obj = spacy.load('en_core_web_sm')\n",
    "salute_spacy = spacy_obj(the_message)\n",
    "print(salute_spacy[0:200])"
   ]
  },
  {
   "cell_type": "markdown",
   "id": "6eb2e218-0919-42e9-9aa6-2d8681c37215",
   "metadata": {},
   "source": [
    "### **question marks** are uninteresting\n",
    "#### **exclamation marks and inverted commas** are unnecessary and ugly\n",
    "##### **commas** are useless"
   ]
  },
  {
   "cell_type": "code",
   "execution_count": 234,
   "id": "e8f2568b-70b5-48c7-a601-2aa8eb614b6d",
   "metadata": {},
   "outputs": [],
   "source": [
    "sal=the_message.translate({ord(ch):'' for ch in '!?;:“”,*\"#.'}).replace('\\n', ' ')"
   ]
  },
  {
   "cell_type": "code",
   "execution_count": 235,
   "id": "513fea8a-1dcd-4ba3-a2f1-8924dbd4de71",
   "metadata": {},
   "outputs": [],
   "source": [
    "salute_list=sal.split(' ')"
   ]
  },
  {
   "cell_type": "markdown",
   "id": "433c61a6-6f7c-425a-b071-9c30fe0fe730",
   "metadata": {},
   "source": [
    "### the **dot** leads the text to its own life"
   ]
  },
  {
   "cell_type": "code",
   "execution_count": 236,
   "id": "f390225f-cd98-4c1c-ab9f-3f77119c5bf3",
   "metadata": {},
   "outputs": [],
   "source": [
    "dot = ['.']\n",
    "\n",
    "\n",
    "for i in range(0, random.randint(0, 10000)):\n",
    "    dotx = random.randint(0, len(salute_list))\n",
    "    salute_list = salute_list[:dotx] + dot + salute_list[dotx:]\n",
    "\n",
    "salute_string2 = ' '.join(salute_list)\n",
    "\n",
    "the_message=re.sub(r'\\s([.](?:\\s|$))', r'\\1', salute_string2)"
   ]
  },
  {
   "cell_type": "code",
   "execution_count": 237,
   "id": "b25890b2-921c-4b6b-bbf6-9ab1a656f9be",
   "metadata": {},
   "outputs": [
    {
     "data": {
      "text/plain": [
       "Sentiment(classification='pos', p_pos=1.0, p_neg=1.3397707440200152e-100)"
      ]
     },
     "execution_count": 237,
     "metadata": {},
     "output_type": "execute_result"
    }
   ],
   "source": [
    "blob = TextBlob(the_message, analyzer=NaiveBayesAnalyzer())\n",
    "blob.sentiment"
   ]
  },
  {
   "cell_type": "code",
   "execution_count": 238,
   "id": "83469ec5-f96b-4fc3-bb68-82c4428f9902",
   "metadata": {
    "tags": []
   },
   "outputs": [
    {
     "name": "stdout",
     "output_type": "stream",
     "text": [
      "  on . 2013 . 3 PaRT Ii Of OBJectIvity AND libEral SChOlaRShIp  if . iS   . .  iN  SERVE aS  . For selF THen. . iS    . . . in inTERprEtinG . oR  aGAIn pUBliClY fOLLOwS   tend TO shortlY  Put adopT.  .  cOnDeMniNG   AND   In. .   AND emPHasIziNG raTHEr   fOR  by   PoSsESS .  ANd   Is. REqUiReD (so  ). to MaNaGE  AND.  .   iS hArDlY       iN . .   OF marXIsM  . AGO was    aS bAKuNIN FOrmUlAteD   . .   . . AccORDInG To   Of. . Mr. MArx   NOt  must nOt destROY. [ ]. .. BUT MUSt STrengtheN . AnD.   at  .  Of    aNd. —  as  leAd of   . eSPeciALLy aS ACCeptEd NamelY mR maRX AND .    proceeD To lIBEratE. .. [] in .     CONcEnTraTe . .  oF . IN    BecAUse    ReQUiRE  ExCEEDinGly     eStabLisH. bElow onCE cITeD  .   ConcenTRAtING in    .   \n"
     ]
    }
   ],
   "source": [
    "spacy_obj = spacy.load('en_core_web_sm')\n",
    "salute_spacy = spacy_obj(the_message)\n",
    "print(salute_spacy[0:200])"
   ]
  },
  {
   "cell_type": "markdown",
   "id": "e57fca2d-dcbf-4be0-847a-2050d5a8237b",
   "metadata": {},
   "source": [
    "### ...and interjections ???"
   ]
  },
  {
   "cell_type": "code",
   "execution_count": 239,
   "id": "d8fc9e61-8d98-428d-a9a6-245b5918d3c1",
   "metadata": {},
   "outputs": [
    {
     "data": {
      "text/plain": [
       "['on', 'Of', 'iN']"
      ]
     },
     "execution_count": 239,
     "metadata": {},
     "output_type": "execute_result"
    }
   ],
   "source": [
    "interjections = []\n",
    "for token in salute_spacy:\n",
    "    if token.pos_ == 'ADP':\n",
    "        interjections.append(token.text)\n",
    "        \n",
    "interjections[0:3]"
   ]
  },
  {
   "cell_type": "code",
   "execution_count": 240,
   "id": "4c3c5b30-73f4-4f3a-afa7-4eeb58690582",
   "metadata": {},
   "outputs": [
    {
     "name": "stdout",
     "output_type": "stream",
     "text": [
      "  . . 2013 . 3 PaRT Ii . OBJectIvity AND libEral SChOlaRShIp  if . iS   . .  .  SERVE .  . . selF THen. . iS    . . . . inTERprEtinG . oR  aGAIn pUBliClY fOLLOwS   tend . shortlY  Put adopT.  .  cOnDe\n"
     ]
    }
   ],
   "source": [
    "big_regex = re.compile(r'\\b%s\\b' % r'\\b|\\b'.join(map(re.escape, interjections)))\n",
    "the_message = big_regex.sub(\".\", the_message)\n",
    "print(the_message[0:200])"
   ]
  },
  {
   "cell_type": "code",
   "execution_count": 241,
   "id": "8b6d1981-7a74-4d41-a7df-314d8e3b53d0",
   "metadata": {},
   "outputs": [
    {
     "data": {
      "text/plain": [
       "Sentiment(classification='pos', p_pos=1.0, p_neg=7.868912978990169e-100)"
      ]
     },
     "execution_count": 241,
     "metadata": {},
     "output_type": "execute_result"
    }
   ],
   "source": [
    "blob = TextBlob(the_message, analyzer=NaiveBayesAnalyzer())\n",
    "blob.sentiment"
   ]
  },
  {
   "cell_type": "code",
   "execution_count": 242,
   "id": "df3a7b19-0adc-4776-a672-095de74b8589",
   "metadata": {},
   "outputs": [
    {
     "name": "stdout",
     "output_type": "stream",
     "text": [
      "  . . 2013 . 3 PaRT Ii . OBJectIvity AND libEral SChOlaRShIp  if . iS   . .  .  SERVE .  . . selF THen. . iS    . . . . inTERprEtinG . oR  aGAIn pUBliClY fOLLOwS   tend . shortlY  Put adopT.  .  cOnDeMniNG   AND   .. .   AND emPHasIziNG raTHEr   .  .   PoSsESS .  ANd   Is. REqUiReD (so  ). . MaNaGE  AND.  .   iS hArDlY       . . .   . marXIsM  . AGO was    . bAKuNIN FOrmUlAteD   . .   . . . .   .. . Mr. MArx   NOt  must nOt destROY. [ ]. .. BUT MUSt STrengtheN . AnD.   .  .  .    aNd. —  .  leAd .   . . . ACCeptEd NamelY mR maRX AND .    proceeD . lIBEratE. .. [] . .     CONcEnTraTe . .  . . .    BecAUse    ReQUiRE  ExCEEDinGly     eStabLisH. . onCE cITeD  .   ConcenTRAtING .    .   anD eVeN\n"
     ]
    }
   ],
   "source": [
    "spacy_obj = spacy.load('en_core_web_sm')\n",
    "salute_spacy = spacy_obj(the_message)\n",
    "print(salute_spacy[0:200])"
   ]
  },
  {
   "cell_type": "code",
   "execution_count": 243,
   "id": "8887fbee-b168-4bac-8a7b-de864e672b94",
   "metadata": {},
   "outputs": [],
   "source": [
    "#switch chapter-1.txt until footnotes.txt to wrote cjaüter by chapter...\n",
    "##...here for chapter 3:\n",
    "textfile = open(\"./output/chapter3.txt\", \"w\")\n",
    "a = textfile.write(the_message)\n",
    "textfile.close()"
   ]
  }
 ],
 "metadata": {
  "kernelspec": {
   "display_name": "Python 3",
   "language": "python",
   "name": "python3"
  },
  "language_info": {
   "codemirror_mode": {
    "name": "ipython",
    "version": 3
   },
   "file_extension": ".py",
   "mimetype": "text/x-python",
   "name": "python",
   "nbconvert_exporter": "python",
   "pygments_lexer": "ipython3",
   "version": "3.8.8"
  }
 },
 "nbformat": 4,
 "nbformat_minor": 5
}
